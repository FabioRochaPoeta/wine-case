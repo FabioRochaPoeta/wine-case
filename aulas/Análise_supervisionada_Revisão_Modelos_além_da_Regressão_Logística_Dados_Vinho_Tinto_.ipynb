{
  "nbformat": 4,
  "nbformat_minor": 0,
  "metadata": {
    "colab": {
      "provenance": [],
      "include_colab_link": true
    },
    "kernelspec": {
      "name": "python3",
      "display_name": "Python 3"
    },
    "language_info": {
      "name": "python"
    }
  },
  "cells": [
    {
      "cell_type": "markdown",
      "metadata": {
        "id": "view-in-github",
        "colab_type": "text"
      },
      "source": [
        "<a href=\"https://colab.research.google.com/github/FabioRochaPoeta/wine-case/blob/main/An%C3%A1lise_supervisionada_Revis%C3%A3o_Modelos_al%C3%A9m_da_Regress%C3%A3o_Log%C3%ADstica_Dados_Vinho_Tinto_.ipynb\" target=\"_parent\"><img src=\"https://colab.research.google.com/assets/colab-badge.svg\" alt=\"Open In Colab\"/></a>"
      ]
    },
    {
      "cell_type": "markdown",
      "source": [
        "# Vamos Revisar!!!\n",
        "\n",
        "![](https://media.giphy.com/media/E3L5goMMSoAAo/giphy.gif)\n",
        "\n",
        "> Indented block\n",
        "\n",
        "\n",
        "\n",
        "\n",
        "## Lembrando as variáveis do nosso problema\n",
        "\n",
        "Usaremos um dataset composto por propriedades físico-químicas de vinhos tintos. Temos 1599 amostras e um total de 11 variáveis independentes, descritas abaixo:\n",
        "\n",
        " - `fixed acidity`: a maioria dos ácidos envolvidos com vinho (não evaporam prontamente)\n",
        " - `volatile acidity`: a quantidade de ácido acético no vinho, que em níveis muito altos pode levar a um gosto desagradável de vinagre\n",
        " - `citric acid`: encontrado em pequenas quantidades, o ácido cítrico pode adicionar \"leveza\" e sabor aos vinhos\n",
        " - `residual sugar`: a quantidade de açúcar restante após a fermentação é interrompida, é raro encontrar vinhos com menos de 1 grama / litro e vinhos com mais de 45 gramas / litro são considerados doces\n",
        " - `chlorides`: a quantidade de sal no vinho\n",
        "free sulfur dioxide: a forma livre de SO2 existe em equilíbrio entre o SO2 molecular (como gás dissolvido) e o íon bissulfito; impede o crescimento microbiano e a oxidação do vinho\n",
        " - `total sulfur dioxide`: Quantidade de formas livres e encadernadas de S02; em baixas concentrações, o SO2 é quase indetectável no vinho, mas nas concentrações de SO2 acima de 50 ppm, o SO2 se torna evidente no nariz e no sabor do vinho.\n",
        " - `density`: a densidade do vinho é próxima a da água, dependendo do percentual de álcool e teor de açúcar\n",
        " - `pH`: descreve se o vinho é ácido ou básico numa escala de 0 (muito ácido) a 14 (muito básico); a maioria dos vinhos está entre 3-4 na escala de pH\n",
        " - `sulphates`: um aditivo de vinho que pode contribuir para os níveis de gás de dióxido de enxofre (S02), que age como um antimicrobiano e antioxidante\n",
        " - `alcohol`: o percentual de álcool no vinho\n",
        "\n",
        "\n",
        "Existe ainda uma variável chamada `quality`. Essa variável é uma nota de qualidade do vinho que varia de 0 a 10.\n",
        "\n",
        "Criamos uma variável que determina se um vinho é considerado bom ou ruim, baseado na quality. Se quality > 5, o vinho é bom. "
      ],
      "metadata": {
        "id": "SBtVqoM4bfyI"
      }
    },
    {
      "cell_type": "code",
      "source": [
        "# Import necessary packages\n",
        "import pandas as pd\n",
        "import random\n",
        "import matplotlib.pyplot as plt\n",
        "import numpy as np\n",
        "import seaborn as sns\n",
        "from copy import deepcopy as cp\n",
        "from sklearn.preprocessing import StandardScaler\n",
        "from sklearn.linear_model import LogisticRegression\n",
        "from sklearn.model_selection import (\n",
        "    train_test_split,\n",
        "    StratifiedKFold)\n",
        "from sklearn.metrics import (\n",
        "    accuracy_score,\n",
        "    precision_score,\n",
        "    recall_score,\n",
        "    f1_score,\n",
        "    classification_report,\n",
        "    confusion_matrix,\n",
        "    roc_curve,\n",
        "    auc,\n",
        "    RocCurveDisplay\n",
        ")\n",
        "\n",
        "sns.set_style(\"ticks\")\n",
        "sns.set_context(\"paper\")\n",
        "\n",
        "random_state = 42"
      ],
      "metadata": {
        "id": "jrHuRVFsQKPw"
      },
      "execution_count": null,
      "outputs": []
    },
    {
      "cell_type": "code",
      "source": [
        "url = \"https://archive.ics.uci.edu/ml/machine-learning-databases/wine-quality/winequality-red.csv\"\n",
        "wine = pd.read_csv(url, sep=\";\")\n",
        "wine[\"category\"] = (wine.quality > 5).astype(float)\n",
        "\n",
        "vars = [\n",
        "   'fixed acidity',\n",
        "   'volatile acidity',\n",
        "   'citric acid',\n",
        "   'residual sugar',\n",
        "   'chlorides',\n",
        "   'free sulfur dioxide',\n",
        "   'total sulfur dioxide',\n",
        "   'density',\n",
        "   'pH',\n",
        "   'sulphates',\n",
        "   'alcohol'\n",
        "]\n",
        "\n",
        "X = wine[vars]\n",
        "y = wine['category']"
      ],
      "metadata": {
        "id": "ELc7XCRyZvMn"
      },
      "execution_count": null,
      "outputs": []
    },
    {
      "cell_type": "markdown",
      "source": [
        "# Aula dia 19 de maio"
      ],
      "metadata": {
        "id": "j85k1jVv51HL"
      }
    },
    {
      "cell_type": "code",
      "source": [
        "# Vamos dividir a base entre treino e teste\n",
        "X_train, X_test, y_train, y_test = train_test_split(X.values,\n",
        "                                                    y.values,\n",
        "                                                    test_size=0.2, # 20 % da base\n",
        "                                                    random_state=171,\n",
        "                                                    stratify=y)\n",
        "\n",
        "# Vamos criar a escala\n",
        "\n",
        "scaler = StandardScaler()\n",
        "X_train_scaled = scaler.fit_transform(X_train)\n",
        "X_test_scaled = scaler.transform(X_test)\n",
        "\n",
        "# Vamos treinar!\n",
        "\n",
        "model = LogisticRegression()\n",
        "model.fit(X_train_scaled, y_train)\n",
        "\n",
        "# Vamos avaliar!!!\n",
        "\n",
        "y_prob = model.predict_proba(X_train_scaled)\n",
        "y_pred = model.predict(X_train_scaled)\n",
        "\n",
        "y_pred_test = model.predict(X_test_scaled)\n",
        "\n",
        "print(f\"Meu resultado de F1-Score é {f1_score(y_train, y_pred):.2}\")\n",
        "print(f\"Meu resultado para teste de F1-Score é {f1_score(y_test, y_pred_test):.2}\")"
      ],
      "metadata": {
        "colab": {
          "base_uri": "https://localhost:8080/"
        },
        "id": "QmjKKzQdmLxa",
        "outputId": "ba48276b-d9cf-46ae-818b-4e38954e22d3"
      },
      "execution_count": null,
      "outputs": [
        {
          "output_type": "stream",
          "name": "stdout",
          "text": [
            "Meu resultado de F1-Score é 0.76\n",
            "Meu resultado para teste de F1-Score é 0.78\n"
          ]
        }
      ]
    },
    {
      "cell_type": "markdown",
      "source": [
        "# Vamos treinar com K-Folds"
      ],
      "metadata": {
        "id": "luWMJBzRrvBb"
      }
    },
    {
      "cell_type": "code",
      "source": [
        "cv = StratifiedKFold(n_splits=5)\n",
        "\n",
        "\n",
        "f1_score_test_list = []\n",
        "model_list =[]\n",
        "\n",
        "for fold, (train_idx, test_idx) in enumerate(cv.split(X, y)):\n",
        "    X_train = X.loc[train_idx, :].values\n",
        "    y_train = y[train_idx]\n",
        "    X_test = X.loc[test_idx, :].values\n",
        "    y_test = y[test_idx]\n",
        "\n",
        "    # Escala\n",
        "    scaler = StandardScaler()\n",
        "    X_train_scaled = scaler.fit_transform(X_train)\n",
        "    X_test_scaled = scaler.transform(X_test)\n",
        "\n",
        "    # Treino\n",
        "    model = LogisticRegression()\n",
        "    model.fit(X_train_scaled, y_train)\n",
        "    y_prob = model.predict_proba(X_train_scaled)\n",
        "    y_pred = model.predict(X_train_scaled)\n",
        "\n",
        "    y_pred_test = model.predict(X_test_scaled)\n",
        "    print(f\"========================= FOLD {fold} ==========================\")\n",
        "    print(f\"Meu resultado de F1-Score é {f1_score(y_train, y_pred):.2}\")\n",
        "    print(f\"Meu resultado para teste de F1-Score é {f1_score(y_test, y_pred_test):.2}\") \n",
        "    f1_score_test_list.append(f1_score(y_test, y_pred_test))\n",
        "    model_list.append(model)\n",
        "print()\n",
        "print()\n",
        "\n",
        "print(f\"Meu resultado de F1-Score Médio é {np.mean(f1_score_test_list): .2} +- {np.std(f1_score_test_list): .2} \")\n",
        "print(f\"Meu melhor fold é: {np.argmax(f1_score_test_list)} \")\n",
        "best_model = model_list[np.argmax(f1_score_test_list)]"
      ],
      "metadata": {
        "colab": {
          "base_uri": "https://localhost:8080/"
        },
        "id": "VeKoA9VgqiNg",
        "outputId": "8d866686-71d5-4f87-9f0b-f82635bd6617"
      },
      "execution_count": null,
      "outputs": [
        {
          "output_type": "stream",
          "name": "stdout",
          "text": [
            "========================= FOLD 0 ==========================\n",
            "Meu resultado de F1-Score é 0.77\n",
            "Meu resultado para teste de F1-Score é 0.66\n",
            "========================= FOLD 1 ==========================\n",
            "Meu resultado de F1-Score é 0.77\n",
            "Meu resultado para teste de F1-Score é 0.72\n",
            "========================= FOLD 2 ==========================\n",
            "Meu resultado de F1-Score é 0.76\n",
            "Meu resultado para teste de F1-Score é 0.79\n",
            "========================= FOLD 3 ==========================\n",
            "Meu resultado de F1-Score é 0.77\n",
            "Meu resultado para teste de F1-Score é 0.79\n",
            "========================= FOLD 4 ==========================\n",
            "Meu resultado de F1-Score é 0.76\n",
            "Meu resultado para teste de F1-Score é 0.77\n",
            "\n",
            "\n",
            "Meu resultado de F1-Score Médio é  0.75 +-  0.051 \n",
            "Meu melhor fold é: 3 \n"
          ]
        }
      ]
    },
    {
      "cell_type": "code",
      "source": [],
      "metadata": {
        "id": "INob_lD8z1Lp"
      },
      "execution_count": null,
      "outputs": []
    },
    {
      "cell_type": "markdown",
      "source": [
        "![](https://scikit-learn.org/stable/_images/grid_search_cross_validation.png)"
      ],
      "metadata": {
        "id": "dgJzM6o2z2Im"
      }
    },
    {
      "cell_type": "code",
      "source": [
        "cv = StratifiedKFold(n_splits=5)\n",
        "X_train_cv, X_test, y_train_cv, y_test = train_test_split(X.values,\n",
        "                                                          y.values,\n",
        "                                                          test_size=0.2, # 20 % da base\n",
        "                                                          random_state=42,\n",
        "                                                          stratify=y)\n",
        "\n",
        "f1_score_val_list = []\n",
        "model_list =[]\n",
        "scaler_list = []\n",
        "# Validação cruzada só em Training Data\n",
        "for fold, (train_idx, val_idx) in enumerate(cv.split(X_train_cv, y_train_cv)):\n",
        "    X_train = X.loc[train_idx, :].values\n",
        "    y_train = y[train_idx]\n",
        "    X_val = X.loc[val_idx, :].values\n",
        "    y_val = y[val_idx]\n",
        "\n",
        "    # Escala\n",
        "    scaler = StandardScaler()\n",
        "    X_train_scaled = scaler.fit_transform(X_train)\n",
        "    X_val_scaled = scaler.transform(X_val)\n",
        "\n",
        "    scaler_list.append(scaler)\n",
        "\n",
        "    # Treino\n",
        "    model = LogisticRegression()\n",
        "    model.fit(X_train_scaled, y_train)\n",
        "    y_prob = model.predict_proba(X_train_scaled)\n",
        "    y_pred = model.predict(X_train_scaled)\n",
        "\n",
        "    y_pred_val = model.predict(X_val_scaled)\n",
        "    print(f\"========================= FOLD {fold} ==========================\")\n",
        "    print(f\"Meu resultado de F1-Score é {f1_score(y_train, y_pred):.2}\")\n",
        "    print(f\"Meu resultado para validação de F1-Score é {f1_score(y_val, y_pred_val):.2}\") \n",
        "    f1_score_val_list.append(f1_score(y_val, y_pred_val))\n",
        "    model_list.append(model)\n",
        "print()\n",
        "print()\n",
        "\n",
        "print(f\"Meu resultado de F1-Score Médio de validação é {np.mean(f1_score_val_list): .2} +- {np.std(f1_score_val_list): .2} \")\n",
        "print()\n",
        "\n",
        "best_model_idx = np.argmax(f1_score_val_list)\n",
        "print(f\"Meu melhor fold é: {best_model_idx} \")\n",
        "best_model = model_list[best_model_idx]\n",
        "\n",
        "# Fazer a inferência em Test Data\n",
        "best_scaler = scaler_list[best_model_idx]\n",
        "X_test_scaled = best_scaler.transform(X_test)\n",
        "y_pred_test = model.predict(X_test_scaled)\n",
        "\n",
        "print()\n",
        "print()\n",
        "print(f\"Meu resultado de F1-Score para o conjunto de teste é: {f1_score(y_test, y_pred_test):.2} \")"
      ],
      "metadata": {
        "colab": {
          "base_uri": "https://localhost:8080/"
        },
        "id": "KNAJp2NUroLS",
        "outputId": "05a8ce4b-f9f0-46cd-ceb2-55bfeaa8f23e"
      },
      "execution_count": null,
      "outputs": [
        {
          "output_type": "stream",
          "name": "stdout",
          "text": [
            "========================= FOLD 0 ==========================\n",
            "Meu resultado de F1-Score é 0.8\n",
            "Meu resultado para validação de F1-Score é 0.56\n",
            "========================= FOLD 1 ==========================\n",
            "Meu resultado de F1-Score é 0.75\n",
            "Meu resultado para validação de F1-Score é 0.78\n",
            "========================= FOLD 2 ==========================\n",
            "Meu resultado de F1-Score é 0.79\n",
            "Meu resultado para validação de F1-Score é 0.65\n",
            "========================= FOLD 3 ==========================\n",
            "Meu resultado de F1-Score é 0.77\n",
            "Meu resultado para validação de F1-Score é 0.81\n",
            "========================= FOLD 4 ==========================\n",
            "Meu resultado de F1-Score é 0.74\n",
            "Meu resultado para validação de F1-Score é 0.85\n",
            "\n",
            "\n",
            "Meu resultado de F1-Score Médio de validação é  0.73 +-  0.11 \n",
            "\n",
            "Meu melhor fold é: 4 \n",
            "\n",
            "\n",
            "Meu resultado de F1-Score para o conjunto de teste é: 0.77 \n"
          ]
        }
      ]
    },
    {
      "cell_type": "code",
      "source": [],
      "metadata": {
        "id": "QB8go1SXyE5V"
      },
      "execution_count": null,
      "outputs": []
    }
  ]
}